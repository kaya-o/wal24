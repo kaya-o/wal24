{
 "cells": [
  {
   "cell_type": "code",
   "execution_count": null,
   "metadata": {},
   "outputs": [],
   "source": [
    "import pandas as pd\n",
    "import matplotlib.pyplot as plt\n",
    "import numpy as np"
   ]
  },
  {
   "cell_type": "code",
   "execution_count": null,
   "metadata": {},
   "outputs": [],
   "source": [
    "df = pd.read_csv(\"./data.csv\")\n",
    "full_office = df[df[\"Unter welchem Arbeitsmodell arbeiten Sie derzeit?\"] == \"100% Büro\"]\n",
    "hybrid = df[df[\"Unter welchem Arbeitsmodell arbeiten Sie derzeit?\"] == \"Hybrides Modell\"]\n",
    "full_home = df[df[\"Unter welchem Arbeitsmodell arbeiten Sie derzeit?\"] == \"100% Homeoffice\"]"
   ]
  },
  {
   "cell_type": "code",
   "execution_count": null,
   "metadata": {},
   "outputs": [],
   "source": [
    "questions = [\n",
    "    \"Ich bekomme genug Anerkennung für meine Arbeit.\",\n",
    "    \"Die Teamleitung ist für die Teammitglieder ausreichend ansprechbar, um Probleme oder Schwierigkeiten zu diskutieren.\",\n",
    "    \"Konstruktive Kritik kann offen geäußert werden, ohne dass sich jemand persönlich angegriffen fühlt.\",\n",
    "    \"Wir unterstützen uns gegenseitig bei der Erledigung unserer Aufgaben.\",\n",
    "    \"Der Arbeitsfortschritt wird durch zahlreiche Konflikte innerhalb des Teams gehemmt.\"\n",
    "]\n",
    "\n",
    "questions_with_linebreaks = [\n",
    "    \"Ich bekomme genug\\nAnerkennung für meine Arbeit.\",\n",
    "    \"Die Teamleitung ist für die Teammitglieder\\nausreichend ansprechbar,um Probleme\\noder Schwierigkeiten zu diskutieren.\",\n",
    "    \"Konstruktive Kritik kann\\noffen geäußert werden,\\nohne dass sich jemand\\npersönlich angegriffen fühlt.\",\n",
    "    \"Wir unterstützen uns\\ngegenseitig bei der Erledigung\\nunserer Aufgaben.\",\n",
    "    \"Der Arbeitsfortschritt wird\\ndurch zahlreiche Konflikte\\ninnerhalb des Teams gehemmt.\"\n",
    "]\n",
    "\n",
    "colors = {\n",
    "    \"100% Büro\": \"#0d1d32\",\n",
    "    \"Hybrides Modell\": \"#e15b26\",\n",
    "    \"100% Homeoffice\": \"#2067b9\" \n",
    "}\n",
    "\n",
    "viz_dic = {\n",
    "    \"100% Büro\": [full_office[q].describe()['mean'] for q in questions],\n",
    "    \"Hybrides Modell\": [hybrid[q].describe()['mean'] for q in questions],\n",
    "    \"100% Homeoffice\": [full_home[q].describe()['mean'] for q in questions]\n",
    "}\n",
    "\n",
    "x = np.arange(len(questions))\n",
    "width = 0.25  # the width of the bars\n",
    "multiplier = 0\n",
    "\n",
    "fig, ax = plt.subplots(figsize=(15, 6), layout='constrained', dpi=1000)  # Adjust figsize for better spacing\n",
    "\n",
    "for work_model, answers in viz_dic.items():\n",
    "    offset = width * multiplier\n",
    "    rects = ax.bar(x + offset, answers, width, label=work_model, color=colors[work_model])\n",
    "    ax.bar_label(rects, padding=3, fmt=\"%.1f\")\n",
    "    multiplier += 1\n",
    "\n",
    "\n",
    "ax.set_ylabel('Bewertung\\n')\n",
    "ax.set_title('Bedeutende Unterschiede in Mitarbeitermeinungen: Ein Vergleich von Arbeitsmodellen')\n",
    "ax.set_xticks(x + width , questions_with_linebreaks)\n",
    "ax.legend(loc='upper left', ncols=3)\n",
    "ax.set_ylim(0, 5)\n",
    "ax.set_yticklabels(['(trifft nicht zu) 0', '1', '2', '3', '4', '(trifft voll zu) 5'])\n",
    "ax.legend(loc='upper right', ncol=1)\n",
    "plt.rcParams['text.antialiased'] = True\n",
    "plt.xticks(rotation=0, ha='center')\n",
    "plt.plot(antialiased=True)\n"
   ]
  }
 ],
 "metadata": {
  "kernelspec": {
   "display_name": ".venv",
   "language": "python",
   "name": "python3"
  },
  "language_info": {
   "codemirror_mode": {
    "name": "ipython",
    "version": 3
   },
   "file_extension": ".py",
   "mimetype": "text/x-python",
   "name": "python",
   "nbconvert_exporter": "python",
   "pygments_lexer": "ipython3",
   "version": "3.9.10"
  }
 },
 "nbformat": 4,
 "nbformat_minor": 2
}
