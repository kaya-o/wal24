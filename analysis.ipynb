{
 "cells": [
  {
   "cell_type": "markdown",
   "metadata": {},
   "source": [
    "<h2>Load Data</h2>"
   ]
  },
  {
   "cell_type": "code",
   "execution_count": null,
   "metadata": {},
   "outputs": [],
   "source": [
    "import pandas as pd\n",
    "import matplotlib.pyplot as plt\n",
    "from scipy import stats"
   ]
  },
  {
   "cell_type": "code",
   "execution_count": null,
   "metadata": {},
   "outputs": [],
   "source": [
    "df = pd.read_csv(\"./data.csv\")\n",
    "ind_variables_to_columns = {\n",
    "    \"demographics\": list(range(2,20)),\n",
    "    \"teamwork\": list(range(20,31)),\n",
    "    # Skip 31: Welche Faktoren hinsichtlich der Teamzusammenarbeit sollten Ihrer Meinung nach geändert werden, um diese zu verbessern?\n",
    "    \"communication\": list(range(32,43)),\n",
    "    # Skip 43: Welche Faktoren hinsichtlich der Teamkommunikation sollten Ihrer Meinung nach geändert werden, um diese effizienter und produktiver zu gestalten?\n",
    "    \"productivity\": list(range(44, 52))\n",
    "    # Skip 53: Welche Faktoren hinsichtlich der Teamproduktivität sollten Ihrer Meinung nach geändert werden, um die Produktivität weiter zu verbessern?\n",
    "    # Skip 54 and 55: Email adresses\n",
    "}\n",
    "\n",
    "demographics_df = df.iloc[:, ind_variables_to_columns[\"demographics\"]]\n",
    "\n",
    "# 0 is ID\n",
    "# 11 is the independent variable: \"Unter welchem Arbeitsmodell arbeiten Sie derzeit?\"\n",
    "teamwork_df = df.iloc[:, [0, 11] + ind_variables_to_columns[\"teamwork\"]] # dependent variable 1\n",
    "communication_df = df.iloc[:, [0, 11] + ind_variables_to_columns[\"communication\"]] # dependent variable 2\n",
    "productivity_df = df.iloc[:, [0, 11] + ind_variables_to_columns[\"productivity\"]] # dependent variable 3\n"
   ]
  },
  {
   "cell_type": "markdown",
   "metadata": {},
   "source": [
    "<h2>Descriptive</h2>"
   ]
  },
  {
   "cell_type": "code",
   "execution_count": null,
   "metadata": {},
   "outputs": [],
   "source": [
    "\n",
    "# Teamwork\n",
    "teamwork_full_office = teamwork_df[teamwork_df[\"Unter welchem Arbeitsmodell arbeiten Sie derzeit?\"] == \"100% Büro\"].drop(['ID', \"Unter welchem Arbeitsmodell arbeiten Sie derzeit?\"], axis=1)\n",
    "teamwork_hybrid = teamwork_df[teamwork_df[\"Unter welchem Arbeitsmodell arbeiten Sie derzeit?\"] == \"Hybrides Modell\"].drop(['ID', \"Unter welchem Arbeitsmodell arbeiten Sie derzeit?\"], axis=1)\n",
    "teamwork_full_homeoffice = teamwork_df[teamwork_df[\"Unter welchem Arbeitsmodell arbeiten Sie derzeit?\"] == \"100% Homeoffice\"].drop(['ID', \"Unter welchem Arbeitsmodell arbeiten Sie derzeit?\"], axis=1)\n",
    "\n",
    "for col in teamwork_full_office.columns:\n",
    "    combined_descriptive_stats = pd.concat([\n",
    "                                                teamwork_full_office[col].describe().loc[['mean', 'std', 'min', 'max']],\n",
    "                                                teamwork_hybrid[col].describe().loc[['mean', 'std', 'min', 'max']],\n",
    "                                                teamwork_full_homeoffice[col].describe().loc[['mean', 'std', 'min', 'max']]\n",
    "                                            ],\n",
    "                                            axis=1, \n",
    "                                            keys=['100% Büro', 'Hybrides Modell', '100% Homeoffice'])\n",
    "    combined_descriptive_stats.plot(kind='bar', figsize=(10, 6), width=0.8)\n",
    "    plt.title(col)\n",
    "    plt.xlabel('Statistics')\n",
    "    plt.ylabel('Values')\n",
    "    plt.xticks(rotation=0)  # Rotate x-axis labels for better readability\n",
    "    plt.legend(title='DataFrames')\n",
    "    plt.show()"
   ]
  },
  {
   "cell_type": "code",
   "execution_count": null,
   "metadata": {},
   "outputs": [],
   "source": [
    "# Communication\n",
    "communication_full_office = communication_df[teamwork_df[\"Unter welchem Arbeitsmodell arbeiten Sie derzeit?\"] == \"100% Büro\"].drop(['ID', \"Unter welchem Arbeitsmodell arbeiten Sie derzeit?\"], axis=1)\n",
    "communication_hybrid = communication_df[teamwork_df[\"Unter welchem Arbeitsmodell arbeiten Sie derzeit?\"] == \"Hybrides Modell\"].drop(['ID', \"Unter welchem Arbeitsmodell arbeiten Sie derzeit?\"], axis=1)\n",
    "communication_full_homeoffice = communication_df[teamwork_df[\"Unter welchem Arbeitsmodell arbeiten Sie derzeit?\"] == \"100% Homeoffice\"].drop(['ID', \"Unter welchem Arbeitsmodell arbeiten Sie derzeit?\"], axis=1)\n",
    "\n",
    "for col in communication_df.columns:\n",
    "    if col in ['ID', \"Unter welchem Arbeitsmodell arbeiten Sie derzeit?\"]: continue\n",
    "    combined_descriptive_stats = pd.concat([\n",
    "                                                communication_full_office[col].describe().loc[['mean', 'std', 'min', 'max']],\n",
    "                                                communication_hybrid[col].describe().loc[['mean', 'std', 'min', 'max']],\n",
    "                                                communication_full_homeoffice[col].describe().loc[['mean', 'std', 'min', 'max']]\n",
    "                                            ],\n",
    "                                            axis=1, \n",
    "                                            keys=['100% Büro', 'Hybrides Modell', '100% Homeoffice'])\n",
    "    combined_descriptive_stats.plot(kind='bar', figsize=(10, 6), width=0.8)\n",
    "    plt.title(col)\n",
    "    plt.xlabel('Statistics')\n",
    "    plt.ylabel('Values')\n",
    "    plt.xticks(rotation=0)  # Rotate x-axis labels for better readability\n",
    "    plt.legend(title='DataFrames')\n",
    "    plt.show()\n"
   ]
  },
  {
   "cell_type": "code",
   "execution_count": null,
   "metadata": {},
   "outputs": [],
   "source": [
    "# Productivity\n",
    "productivity_full_office = productivity_df[teamwork_df[\"Unter welchem Arbeitsmodell arbeiten Sie derzeit?\"] == \"100% Büro\"].drop(['ID', \"Unter welchem Arbeitsmodell arbeiten Sie derzeit?\"], axis=1)\n",
    "productivity_hybrid = productivity_df[teamwork_df[\"Unter welchem Arbeitsmodell arbeiten Sie derzeit?\"] == \"Hybrides Modell\"].drop(['ID', \"Unter welchem Arbeitsmodell arbeiten Sie derzeit?\"], axis=1)\n",
    "productivity_full_homeoffice = productivity_df[teamwork_df[\"Unter welchem Arbeitsmodell arbeiten Sie derzeit?\"] == \"100% Homeoffice\"].drop(['ID', \"Unter welchem Arbeitsmodell arbeiten Sie derzeit?\"], axis=1)\n",
    "\n",
    "for col in productivity_df.columns:\n",
    "    if col in ['ID', \"Unter welchem Arbeitsmodell arbeiten Sie derzeit?\"]: continue\n",
    "    combined_descriptive_stats = pd.concat([\n",
    "                                                productivity_full_office[col].describe().loc[['mean', 'std', 'min', 'max']],\n",
    "                                                productivity_hybrid[col].describe().loc[['mean', 'std', 'min', 'max']],\n",
    "                                                productivity_full_homeoffice[col].describe().loc[['mean', 'std', 'min', 'max']]\n",
    "                                            ],\n",
    "                                            axis=1, \n",
    "                                            keys=['100% Büro', 'Hybrides Modell', '100% Homeoffice'])\n",
    "    combined_descriptive_stats.plot(kind='bar', figsize=(10, 6), width=0.8)\n",
    "    plt.title(col)\n",
    "    plt.xlabel('Statistics')\n",
    "    plt.ylabel('Values')\n",
    "    plt.xticks(rotation=0)  # Rotate x-axis labels for better readability\n",
    "    plt.legend(title='DataFrames')\n",
    "    plt.show()"
   ]
  },
  {
   "cell_type": "markdown",
   "metadata": {},
   "source": [
    "<h2>Analysis</h2>\n",
    "\n",
    "$$F = \\frac{Variance\\space within\\space the\\space groups}{Variance\\space between\\space the\\space groups​}$$\n",
    "\n",
    "Variance within the groups is simply the variance of all data.\n",
    "Variance between the groups is calculated as given:\n",
    "1. Overall Mean\n",
    "$$ \n",
    "\\bar{X} = \\frac{1}{N} \\sum_{i=1}^{k} \\sum_{j=1}^{n_i} X_{ij} \n",
    "$$\n",
    "\n",
    "$ N $ is the total number of entries. </br>\n",
    "$n_i$ is the number of entries in group $ i $. </br>\n",
    "$ X_{ij} $ is the $ j $-th entry in group $ i $. </br>\n",
    "$ n_i $ is the number of entries in group $ i $. </br>\n",
    "$ k $ is the number of groups (In our case 3). </br>\n",
    "\n",
    "2. Individual Group Means\n",
    "$$ \n",
    "\\bar{X_i} = \\frac{1}{n_i} \\sum_{j=1}^{n_i} X_{ij} \n",
    "$$\n",
    "\n",
    "3. Variance between groups (Mean square between)\n",
    "$$\n",
    "Variance\\space between\\space groups = \\frac{\\sum_{i=1}^k n_i(\\bar{X_i} - \\bar{X})^2}{k-1}\n",
    "$$"
   ]
  },
  {
   "cell_type": "code",
   "execution_count": null,
   "metadata": {},
   "outputs": [],
   "source": [
    "alpha = 0.05 # significance treshold\n",
    "df1 = 2 # Degrees of freedom of groups: 3-1\n",
    "df2 = 63 # Degrees of freedom of entries: 5\n",
    "criticial_value = stats.f.ppf(1 - alpha, df1, df2) # Some probability distribution (F distribution) based formula\n",
    "criticial_value # 3.161861164913023"
   ]
  },
  {
   "cell_type": "markdown",
   "metadata": {},
   "source": [
    "<h3>Analysis of Teamwork</h3>"
   ]
  },
  {
   "cell_type": "code",
   "execution_count": null,
   "metadata": {},
   "outputs": [],
   "source": [
    "# Teamwork\n",
    "f_stat_teamwork, p_value_teamwork = stats.f_oneway(teamwork_full_office, teamwork_hybrid, teamwork_full_homeoffice)\n",
    "teamwork_analysis_df = pd.DataFrame(\n",
    "                                    {\n",
    "                                        col: {\n",
    "                                         \"F_stat\": f_stat_teamwork[col_idx],\n",
    "                                         \"p_value\": p_value_teamwork[col_idx]\n",
    "                                        }\n",
    "                                        for col_idx, col in enumerate(teamwork_full_office.columns)\n",
    "                                    }\n",
    "                                    )\n",
    "teamwork_analysis_df\n"
   ]
  },
  {
   "cell_type": "markdown",
   "metadata": {},
   "source": [
    "Significant F value for \"Ich bekomme genug Anerkennung für meine Arbeit.\". Descriptive visualisation reveals a difference between full home office and full office. Use the t-test to determine if there is a significant difference between the two groups.\n",
    "<br/> First determine if there is a significant difference in variance to decide which t-test to use."
   ]
  },
  {
   "cell_type": "code",
   "execution_count": null,
   "metadata": {},
   "outputs": [],
   "source": [
    "stat, p_value_var = stats.levene(teamwork_full_homeoffice[\"Ich bekomme genug Anerkennung für meine Arbeit.\"],\n",
    "             teamwork_full_office[\"Ich bekomme genug Anerkennung für meine Arbeit.\"])\n",
    "# p_value_var = 0.05783190494395712 almost significant"
   ]
  },
  {
   "cell_type": "markdown",
   "metadata": {},
   "source": [
    "P value is on the border. Switch equal_var to switch between tests."
   ]
  },
  {
   "cell_type": "code",
   "execution_count": null,
   "metadata": {},
   "outputs": [],
   "source": [
    "t_stat, p_value = stats.ttest_ind(teamwork_full_homeoffice[\"Ich bekomme genug Anerkennung für meine Arbeit.\"],\n",
    "                                  teamwork_full_office[\"Ich bekomme genug Anerkennung für meine Arbeit.\"], \n",
    "                                  equal_var=True)\n",
    "# equal_var=True -> standard T test\n",
    "# equal_var=False -> Welch's t-test \n",
    "# https://docs.scipy.org/doc/scipy/reference/generated/scipy.stats.ttest_ind.html\n",
    "p_value # Welch's: 0.009157880269011067, Standard: 0.07185627325347592"
   ]
  },
  {
   "cell_type": "markdown",
   "metadata": {},
   "source": [
    "<h2>Analysis of Communication</h2>"
   ]
  },
  {
   "cell_type": "code",
   "execution_count": null,
   "metadata": {},
   "outputs": [],
   "source": [
    "# Communication\n",
    "f_stat_communication, p_value_communication = stats.f_oneway(communication_full_office, communication_hybrid, communication_full_homeoffice)\n",
    "communication_analysis_df = pd.DataFrame(\n",
    "                                    {\n",
    "                                        col: {\n",
    "                                         \"F_stat\": f_stat_communication[col_idx],\n",
    "                                         \"p_value\": p_value_communication[col_idx]\n",
    "                                        }\n",
    "                                        for col_idx, col in enumerate(communication_full_office.columns)\n",
    "                                    }\n",
    "                                    )\n",
    "communication_analysis_df"
   ]
  },
  {
   "cell_type": "markdown",
   "metadata": {},
   "source": [
    "Significant F values for\n",
    "<ul>\n",
    "<li>Die Teamleitung ist für die Teammitglieder ausreichend ansprechbar, um Probleme oder Schwierigkeiten zu diskutieren.</li>\n",
    "<li>Konstruktive Kritik kann offen geäußert werden, ohne dass sich jemand persönlich angegriffen fühlt.\n",
    "<br/>(Besonders schöne F val)</li>\n",
    "</ul>\n"
   ]
  },
  {
   "cell_type": "code",
   "execution_count": null,
   "metadata": {},
   "outputs": [],
   "source": [
    "# Die Teamleitung ist für die Teammitglieder ausreichend ansprechbar, um Probleme oder Schwierigkeiten zu diskutieren.\n",
    "# 100% Office vs Hybrid\n",
    "stat1_fulloffice_hybrid, p_value_var1_fulloffice_hybrid = \\\n",
    "    stats.levene(communication_hybrid[\"Die Teamleitung ist für die Teammitglieder ausreichend ansprechbar, um Probleme oder Schwierigkeiten zu diskutieren.\"],\n",
    "                 communication_full_office[\"Die Teamleitung ist für die Teammitglieder ausreichend ansprechbar, um Probleme oder Schwierigkeiten zu diskutieren.\"])\n",
    "p_value_var1_fulloffice_hybrid #0.8268759967461699: we use equalVariance=True\n",
    "\n",
    "\n",
    "t_stat1_fulloffice_hybrid, p_value1_fulloffice_hybrid = \\\n",
    "    stats.ttest_ind(communication_hybrid[\"Die Teamleitung ist für die Teammitglieder ausreichend ansprechbar, um Probleme oder Schwierigkeiten zu diskutieren.\"],\n",
    "                    communication_full_office[\"Die Teamleitung ist für die Teammitglieder ausreichend ansprechbar, um Probleme oder Schwierigkeiten zu diskutieren.\"], \n",
    "                                  equal_var=True)\n",
    "\n",
    "p_value1_fulloffice_hybrid # 0.00735805709950211: very significant"
   ]
  },
  {
   "cell_type": "code",
   "execution_count": null,
   "metadata": {},
   "outputs": [],
   "source": [
    "# Die Teamleitung ist für die Teammitglieder ausreichend ansprechbar, um Probleme oder Schwierigkeiten zu diskutieren.\n",
    "# 100% home office vs hybrid\n",
    "stat1_fullhome_hybrid, p_value_var1_fullhome_hybrid = \\\n",
    "    stats.levene(communication_hybrid[\"Die Teamleitung ist für die Teammitglieder ausreichend ansprechbar, um Probleme oder Schwierigkeiten zu diskutieren.\"],\n",
    "                 communication_full_homeoffice[\"Die Teamleitung ist für die Teammitglieder ausreichend ansprechbar, um Probleme oder Schwierigkeiten zu diskutieren.\"])\n",
    "p_value_var1_fullhome_hybrid #0.7448711635373774: we use equalVariance=True\n",
    "\n",
    "t_stat1_fullhome_hybrid, p_value1_fullhome_hybrid = \\\n",
    "    stats.ttest_ind(communication_hybrid[\"Die Teamleitung ist für die Teammitglieder ausreichend ansprechbar, um Probleme oder Schwierigkeiten zu diskutieren.\"],\n",
    "                    communication_full_homeoffice[\"Die Teamleitung ist für die Teammitglieder ausreichend ansprechbar, um Probleme oder Schwierigkeiten zu diskutieren.\"], \n",
    "                                  equal_var=True)\n",
    "\n",
    "p_value1_fullhome_hybrid # 0.36: not significant"
   ]
  },
  {
   "cell_type": "code",
   "execution_count": null,
   "metadata": {},
   "outputs": [],
   "source": [
    "# Konstruktive Kritik kann offen geäußert werden, ohne dass sich jemand persönlich angegriffen fühlt.\n",
    "# 100% office vs Hybrid\n",
    "stat2_fulloffice_hybrid, p_value_var2_fulloffice_hybrid = \\\n",
    "    stats.levene(communication_hybrid[\"Konstruktive Kritik kann offen geäußert werden, ohne dass sich jemand persönlich angegriffen fühlt.\"],\n",
    "                 communication_full_office[\"Konstruktive Kritik kann offen geäußert werden, ohne dass sich jemand persönlich angegriffen fühlt.\"])\n",
    "p_value_var2_fulloffice_hybrid # 0.07762769487590993: almost significant but lets use equalVariance=True\n",
    "\n",
    "\n",
    "t_stat2_fulloffice_hybrid, p_value2_fulloffice_hybrid = \\\n",
    "    stats.ttest_ind(communication_hybrid[\"Konstruktive Kritik kann offen geäußert werden, ohne dass sich jemand persönlich angegriffen fühlt.\"],\n",
    "                    communication_full_office[\"Konstruktive Kritik kann offen geäußert werden, ohne dass sich jemand persönlich angegriffen fühlt.\"], \n",
    "                                  equal_var=True)\n",
    "\n",
    "p_value2_fulloffice_hybrid # 0.00464367262012637: very significant"
   ]
  },
  {
   "cell_type": "code",
   "execution_count": null,
   "metadata": {},
   "outputs": [],
   "source": [
    "# Konstruktive Kritik kann offen geäußert werden, ohne dass sich jemand persönlich angegriffen fühlt.\n",
    "# 100% home office vs Hybrid\n",
    "stat2_fullhome_hybrid, p_value_var2_fullhome_hybrid = \\\n",
    "    stats.levene(communication_hybrid[\"Konstruktive Kritik kann offen geäußert werden, ohne dass sich jemand persönlich angegriffen fühlt.\"],\n",
    "                 communication_full_homeoffice[\"Konstruktive Kritik kann offen geäußert werden, ohne dass sich jemand persönlich angegriffen fühlt.\"])\n",
    "p_value_var2_fulloffice_hybrid # 0.006828141956717234: significant: use equalVariance=True\n",
    "\n",
    "t_stat2_fullhome_hybrid, p_value2_fullhome_hybrid = \\\n",
    "    stats.ttest_ind(communication_hybrid[\"Konstruktive Kritik kann offen geäußert werden, ohne dass sich jemand persönlich angegriffen fühlt.\"],\n",
    "                    communication_full_homeoffice[\"Konstruktive Kritik kann offen geäußert werden, ohne dass sich jemand persönlich angegriffen fühlt.\"], \n",
    "                                  equal_var=True)\n",
    "\n",
    "p_value2_fullhome_hybrid # 0.33958763438766415: not significant"
   ]
  },
  {
   "cell_type": "markdown",
   "metadata": {},
   "source": [
    "<h2>Analysis of Productivity</h2>\n"
   ]
  },
  {
   "cell_type": "code",
   "execution_count": null,
   "metadata": {},
   "outputs": [],
   "source": [
    "# Productivity\n",
    "f_stat_productivity, p_value_productivity = stats.f_oneway(productivity_full_office, productivity_hybrid, productivity_full_homeoffice)\n",
    "productivity_analysis_df = pd.DataFrame(\n",
    "                                    {\n",
    "                                        col: {\n",
    "                                         \"F_stat\": f_stat_productivity[col_idx],\n",
    "                                         \"p_value\": p_value_productivity[col_idx]\n",
    "                                        }\n",
    "                                        for col_idx, col in enumerate(productivity_full_office.columns)\n",
    "                                    }\n",
    "                                    )\n",
    "productivity_analysis_df"
   ]
  }
 ],
 "metadata": {
  "kernelspec": {
   "display_name": ".venv",
   "language": "python",
   "name": "python3"
  },
  "language_info": {
   "codemirror_mode": {
    "name": "ipython",
    "version": 3
   },
   "file_extension": ".py",
   "mimetype": "text/x-python",
   "name": "python",
   "nbconvert_exporter": "python",
   "pygments_lexer": "ipython3",
   "version": "3.9.10"
  }
 },
 "nbformat": 4,
 "nbformat_minor": 2
}
